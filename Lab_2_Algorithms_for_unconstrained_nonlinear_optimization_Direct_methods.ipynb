{
  "nbformat": 4,
  "nbformat_minor": 0,
  "metadata": {
    "colab": {
      "provenance": [],
      "collapsed_sections": []
    },
    "kernelspec": {
      "name": "python3",
      "display_name": "Python 3"
    },
    "language_info": {
      "name": "python"
    }
  },
  "cells": [
    {
      "cell_type": "code",
      "source": [
        "import numpy as np\n",
        "import matplotlib.pyplot as plt\n",
        "import random\n",
        "import scipy.optimize\n",
        "import warnings\n",
        "from google.colab import files\n",
        "from math import sqrt\n",
        "\n",
        "warnings.filterwarnings(action='ignore')"
      ],
      "metadata": {
        "id": "TZlfjS6PKcFw"
      },
      "execution_count": 2,
      "outputs": []
    },
    {
      "cell_type": "code",
      "execution_count": null,
      "metadata": {
        "id": "R11v5vBrYO4h"
      },
      "outputs": [],
      "source": [
        "eps = 0.001\n",
        "cubs_section = np.arange(0, 1+eps, eps)\n",
        "abs_section = np.arange(0, 1+eps, eps)\n",
        "sinus_section = np.arange(0.01, 1+eps, eps)\n",
        "\n",
        "def cubs(x):\n",
        "    return x ** 3\n",
        "\n",
        "def _abs_(x):\n",
        "    return np.absolute(x - 0.2)\n",
        "\n",
        "def sinus(x):\n",
        "    return x * np.sin(1/x)\n",
        "\n",
        "def plot(x, y, label):\n",
        "    plt.plot(x, y, c='b')\n",
        "\n",
        "    ax = plt.gca()\n",
        "    ax.axhline(y=0, color='k')\n",
        "    ax.axvline(x=0, color='k')\n",
        "    ax.spines['top'].set_visible(False)\n",
        "    ax.spines['bottom'].set_visible(False)\n",
        "    ax.spines['right'].set_visible(False)\n",
        "    ax.spines['left'].set_visible(False)\n",
        "    ax.set_title(label)\n",
        "\n",
        "    plt.xlabel('x')\n",
        "    plt.ylabel('f(x)')\n",
        "    plt.show()\n",
        "\n",
        "\n",
        "def brute_force_method(func, func_section):\n",
        "    iter_count = 0\n",
        "    x_min = func_section[0]\n",
        "    func_min_value = func(x_min)\n",
        "    for i in np.arange(func_section[0], func_section[-1] + eps, eps):\n",
        "        if func(i) < func_min_value:\n",
        "            func_min_value = func(i)\n",
        "            x_min = i\n",
        "        iter_count += 1\n",
        "    return x_min, func_min_value, iter_count\n",
        "\n",
        "\n",
        "def dichotomy_method(func, func_section):\n",
        "    iter_count = 0\n",
        "    delta = eps/2\n",
        "    low = func_section[0]\n",
        "    high = func_section[-1]\n",
        "    while (high - low)/2 >= eps:\n",
        "        x_low = (high + low - delta)/2\n",
        "        x_high = (high + low + delta)/2\n",
        "        if func(x_low) <= func(x_high):\n",
        "            high = x_high\n",
        "        else:\n",
        "            low = x_low\n",
        "        iter_count += 1\n",
        "    x_min = np.around((low + high)/2, decimals=len(str(eps * 1000)))\n",
        "    func_min_value = func(x_min)\n",
        "    return x_min, func_min_value, iter_count\n",
        "\n",
        "\n",
        "def golden_section_method(func, func_section):\n",
        "    iter_count = 0\n",
        "    a = func_section[0]\n",
        "    b = func_section[-1]\n",
        "    x1 = a + ((3 - sqrt(5))/2) * (b - a)\n",
        "    x2 = a + ((sqrt(5) - 1) / 2) * (b - a)\n",
        "    tay = (sqrt(5) - 1)/2\n",
        "    eps_n = (b - a)/2\n",
        "    f_x1 = func(x1)\n",
        "    f_x2 = func(x2)\n",
        "    while eps_n > eps:\n",
        "        if f_x1 <= f_x2:\n",
        "            b = x2\n",
        "            x2 = x1\n",
        "            f_x2 = f_x1\n",
        "            x1 = b - tay * (b - a)\n",
        "            f_x1 = func(x1)\n",
        "        else:\n",
        "            a = x1\n",
        "            x1 = x2\n",
        "            f_x1 = f_x2\n",
        "            x2 = b - tay * (b - a)\n",
        "            f_x2 = func(x2)\n",
        "        eps_n *= tay\n",
        "        iter_count += 1\n",
        "    x_min = np.around((a + b)/2, decimals=len(str(eps * 1000)))\n",
        "    func_min_value = func(x_min)\n",
        "    return x_min, func_min_value, iter_count"
      ]
    },
    {
      "cell_type": "code",
      "source": [
        "func_array = [cubs, _abs_, sinus]\n",
        "func_names = ['Cube', 'Absolute', 'Sine']\n",
        "func_section_array = [cubs_section, abs_section, sinus_section]\n",
        "for i in range(len(func_array)):\n",
        "    x1, f_v_1, i_1 = brute_force_method(func_array[i], func_section_array[i])\n",
        "    x2, f_v_2, i_2 = dichotomy_method(func_array[i], func_section_array[i])\n",
        "    x3, f_v_3, i_3 = golden_section_method(func_array[i], func_section_array[i])\n",
        "    print(f'Brute-Force Method for {func_names[i]} function:'\n",
        "          f'\\nX min = {round(x1, 4)}, F(X min) = {round(f_v_1, 4)}, Number of iterations = {i_1}.'\n",
        "          f'\\nDichotomy Method for {func_names[i]} function:'\n",
        "          f'\\nX min = {round(x2, 4)}, F(X min) = {round(f_v_3, 4)}, Number of iterations = {i_2}.'\n",
        "          f'\\nGolden Section Method for {func_names[i]} function:'\n",
        "          f'\\nX min = {round(x3, 4)}, F(X min) = {round(f_v_3, 4)}, Number of iterations = {i_3}.')\n",
        "    print()"
      ],
      "metadata": {
        "colab": {
          "base_uri": "https://localhost:8080/"
        },
        "id": "9sBQU3CQKmbV",
        "outputId": "760e1bd4-8845-4271-a827-9e3101181c6d"
      },
      "execution_count": null,
      "outputs": [
        {
          "output_type": "stream",
          "name": "stdout",
          "text": [
            "Brute-Force Method for Cube function:\n",
            "X min = 0.0, F(X min) = 0.0, Number of iterations = 1001.\n",
            "Dichotomy Method for Cube function:\n",
            "X min = 0.001, F(X min) = 0.0, Number of iterations = 10.\n",
            "Golden Section Method for Cube function:\n",
            "X min = 0.001, F(X min) = 0.0, Number of iterations = 13.\n",
            "\n",
            "Brute-Force Method for Absolute function:\n",
            "X min = 0.2, F(X min) = 0.0, Number of iterations = 1001.\n",
            "Dichotomy Method for Absolute function:\n",
            "X min = 0.2, F(X min) = 0.064, Number of iterations = 10.\n",
            "Golden Section Method for Absolute function:\n",
            "X min = 0.264, F(X min) = 0.064, Number of iterations = 13.\n",
            "\n",
            "Brute-Force Method for Sine function:\n",
            "X min = 0.223, F(X min) = -0.2172, Number of iterations = 991.\n",
            "Dichotomy Method for Sine function:\n",
            "X min = 0.222, F(X min) = -0.1994, Number of iterations = 10.\n",
            "Golden Section Method for Sine function:\n",
            "X min = 0.244, F(X min) = -0.1994, Number of iterations = 13.\n",
            "\n"
          ]
        }
      ]
    },
    {
      "cell_type": "code",
      "source": [
        "x1, f_v_1, i_1 = brute_force_method(cubs, cubs_section)\n",
        "x2, f_v_2, i_2 = dichotomy_method(cubs, cubs_section)\n",
        "x3, f_v_3, i_3 = golden_section_method(cubs, cubs_section)\n",
        "print(f'Brute-Force Method for Cubic Function:'\n",
        "      f'\\nX min = {round(x1, 4)}, F(X min) = {round(f_v_1, 4)}, Number of iterations = {i_1}.'\n",
        "      f'\\nDichotomy Method for Cubic Function:'\n",
        "      f'\\nX min = {round(x2, 4)}, F(X min) = {round(f_v_3, 4)}, Number of iterations = {i_2}.'\n",
        "      f'\\nGolden Section Method for Cubic Function:'\n",
        "      f'\\nX min = {round(x3, 4)}, F(X min) = {round(f_v_3, 4)}, Number of iterations = {i_3}.')\n",
        "print()\n",
        "\n",
        "fig, ax = plt.subplots()\n",
        "ax.plot(cubs_section, [cubs(i) for i in cubs_section], linewidth=0.5)\n",
        "ax.scatter(x1, f_v_1, s=100, c='red')\n",
        "ax.tick_params(axis='both', which='major', labelsize=6)\n",
        "ax.set_title('Cubic Function', fontsize=10, loc='center')\n",
        "ax.set_xlabel('x', fontsize=7)\n",
        "ax.set_ylabel('f(x)', fontsize=7)\n",
        "ax.axvline(x=0, color='black', linewidth=0.75)\n",
        "ax.axhline(y=0, color='black', linewidth=0.75)\n",
        "ax.spines['top'].set_visible(False)\n",
        "ax.spines['bottom'].set_visible(False)\n",
        "ax.spines['right'].set_visible(False)\n",
        "ax.spines['left'].set_visible(False)\n",
        "\n",
        "plt.savefig('cubic_function.png', dpi = 200, bbox_inches=\"tight\")\n",
        "files.download('cubic_function.png')"
      ],
      "metadata": {
        "colab": {
          "base_uri": "https://localhost:8080/",
          "height": 406
        },
        "id": "Ipd6F3alL7l4",
        "outputId": "78efe50f-c88b-4537-d39e-c4018fa58e34"
      },
      "execution_count": null,
      "outputs": [
        {
          "output_type": "stream",
          "name": "stdout",
          "text": [
            "Brute-Force Method for Cubic Function:\n",
            "X min = 0.0, F(X min) = 0.0, Number of iterations = 1001.\n",
            "Dichotomy Method for Cubic Function:\n",
            "X min = 0.001, F(X min) = 0.0, Number of iterations = 10.\n",
            "Golden Section Method for Cubic Function:\n",
            "X min = 0.001, F(X min) = 0.0, Number of iterations = 13.\n",
            "\n"
          ]
        },
        {
          "output_type": "display_data",
          "data": {
            "text/plain": [
              "<IPython.core.display.Javascript object>"
            ],
            "application/javascript": [
              "\n",
              "    async function download(id, filename, size) {\n",
              "      if (!google.colab.kernel.accessAllowed) {\n",
              "        return;\n",
              "      }\n",
              "      const div = document.createElement('div');\n",
              "      const label = document.createElement('label');\n",
              "      label.textContent = `Downloading \"${filename}\": `;\n",
              "      div.appendChild(label);\n",
              "      const progress = document.createElement('progress');\n",
              "      progress.max = size;\n",
              "      div.appendChild(progress);\n",
              "      document.body.appendChild(div);\n",
              "\n",
              "      const buffers = [];\n",
              "      let downloaded = 0;\n",
              "\n",
              "      const channel = await google.colab.kernel.comms.open(id);\n",
              "      // Send a message to notify the kernel that we're ready.\n",
              "      channel.send({})\n",
              "\n",
              "      for await (const message of channel.messages) {\n",
              "        // Send a message to notify the kernel that we're ready.\n",
              "        channel.send({})\n",
              "        if (message.buffers) {\n",
              "          for (const buffer of message.buffers) {\n",
              "            buffers.push(buffer);\n",
              "            downloaded += buffer.byteLength;\n",
              "            progress.value = downloaded;\n",
              "          }\n",
              "        }\n",
              "      }\n",
              "      const blob = new Blob(buffers, {type: 'application/binary'});\n",
              "      const a = document.createElement('a');\n",
              "      a.href = window.URL.createObjectURL(blob);\n",
              "      a.download = filename;\n",
              "      div.appendChild(a);\n",
              "      a.click();\n",
              "      div.remove();\n",
              "    }\n",
              "  "
            ]
          },
          "metadata": {}
        },
        {
          "output_type": "display_data",
          "data": {
            "text/plain": [
              "<IPython.core.display.Javascript object>"
            ],
            "application/javascript": [
              "download(\"download_840caca7-dbcb-4e34-a805-d400249a2402\", \"cubic_function.png\", 31218)"
            ]
          },
          "metadata": {}
        },
        {
          "output_type": "display_data",
          "data": {
            "text/plain": [
              "<Figure size 432x288 with 1 Axes>"
            ],
            "image/png": "[encoded data removed]"
          },
          "metadata": {
            "needs_background": "light"
          }
        }
      ]
    },
    {
      "cell_type": "code",
      "source": [
        "x1, f_v_1, i_1 = brute_force_method(_abs_, abs_section)\n",
        "x2, f_v_2, i_2 = dichotomy_method(_abs_, abs_section)\n",
        "x3, f_v_3, i_3 = golden_section_method(_abs_, abs_section)\n",
        "print(f'Brute-Force Method for Absolute Function:'\n",
        "      f'\\nX min = {round(x1, 4)}, F(X min) = {round(f_v_1, 4)}, Number of iterations = {i_1}.'\n",
        "      f'\\nDichotomy Method for Absolute Function:'\n",
        "      f'\\nX min = {round(x2, 4)}, F(X min) = {round(f_v_3, 4)}, Number of iterations = {i_2}.'\n",
        "      f'\\nGolden Section Method for Absolute Function:'\n",
        "      f'\\nX min = {round(x3, 4)}, F(X min) = {round(f_v_3, 4)}, Number of iterations = {i_3}.')\n",
        "print()\n",
        "\n",
        "fig, ax = plt.subplots()\n",
        "ax.plot(abs_section, [_abs_(i) for i in abs_section], linewidth=0.5)\n",
        "ax.scatter(x2, f_v_2, s=100, c='red')\n",
        "ax.tick_params(axis='both', which='major', labelsize=6)\n",
        "ax.set_title('Absolute Value Function', fontsize=10, loc='center')\n",
        "ax.set_xlabel('x', fontsize=7)\n",
        "ax.set_ylabel('f(x)', fontsize=7)\n",
        "ax.axvline(x=0, color='black', linewidth=0.75)\n",
        "ax.axhline(y=0, color='black', linewidth=0.75)\n",
        "ax.spines['top'].set_visible(False)\n",
        "ax.spines['bottom'].set_visible(False)\n",
        "ax.spines['right'].set_visible(False)\n",
        "ax.spines['left'].set_visible(False)\n",
        "\n",
        "plt.savefig('absolute_function.png', dpi = 200, bbox_inches=\"tight\")\n",
        "files.download('absolute_function.png')"
      ],
      "metadata": {
        "colab": {
          "base_uri": "https://localhost:8080/",
          "height": 406
        },
        "id": "8PJlc1qqL-zV",
        "outputId": "d73e7d4c-7107-4a8f-c4ff-48ea75e2a8fb"
      },
      "execution_count": null,
      "outputs": [
        {
          "output_type": "stream",
          "name": "stdout",
          "text": [
            "Brute-Force Method for Absolute Function:\n",
            "X min = 0.2, F(X min) = 0.0, Number of iterations = 1001.\n",
            "Dichotomy Method for Absolute Function:\n",
            "X min = 0.2, F(X min) = 0.064, Number of iterations = 10.\n",
            "Golden Section Method for Absolute Function:\n",
            "X min = 0.264, F(X min) = 0.064, Number of iterations = 13.\n",
            "\n"
          ]
        },
        {
          "output_type": "display_data",
          "data": {
            "text/plain": [
              "<IPython.core.display.Javascript object>"
            ],
            "application/javascript": [
              "\n",
              "    async function download(id, filename, size) {\n",
              "      if (!google.colab.kernel.accessAllowed) {\n",
              "        return;\n",
              "      }\n",
              "      const div = document.createElement('div');\n",
              "      const label = document.createElement('label');\n",
              "      label.textContent = `Downloading \"${filename}\": `;\n",
              "      div.appendChild(label);\n",
              "      const progress = document.createElement('progress');\n",
              "      progress.max = size;\n",
              "      div.appendChild(progress);\n",
              "      document.body.appendChild(div);\n",
              "\n",
              "      const buffers = [];\n",
              "      let downloaded = 0;\n",
              "\n",
              "      const channel = await google.colab.kernel.comms.open(id);\n",
              "      // Send a message to notify the kernel that we're ready.\n",
              "      channel.send({})\n",
              "\n",
              "      for await (const message of channel.messages) {\n",
              "        // Send a message to notify the kernel that we're ready.\n",
              "        channel.send({})\n",
              "        if (message.buffers) {\n",
              "          for (const buffer of message.buffers) {\n",
              "            buffers.push(buffer);\n",
              "            downloaded += buffer.byteLength;\n",
              "            progress.value = downloaded;\n",
              "          }\n",
              "        }\n",
              "      }\n",
              "      const blob = new Blob(buffers, {type: 'application/binary'});\n",
              "      const a = document.createElement('a');\n",
              "      a.href = window.URL.createObjectURL(blob);\n",
              "      a.download = filename;\n",
              "      div.appendChild(a);\n",
              "      a.click();\n",
              "      div.remove();\n",
              "    }\n",
              "  "
            ]
          },
          "metadata": {}
        },
        {
          "output_type": "display_data",
          "data": {
            "text/plain": [
              "<IPython.core.display.Javascript object>"
            ],
            "application/javascript": [
              "download(\"download_797ca5eb-83f3-4c0b-b2f6-f491bbd11fb0\", \"absolute_function.png\", 39060)"
            ]
          },
          "metadata": {}
        },
        {
          "output_type": "display_data",
          "data": {
            "text/plain": [
              "<Figure size 432x288 with 1 Axes>"
            ],
            "image/png": "[encoded data removed]"
          },
          "metadata": {
            "needs_background": "light"
          }
        }
      ]
    },
    {
      "cell_type": "code",
      "source": [
        "x1, f_v_1, i_1 = brute_force_method(sinus, sinus_section)\n",
        "x2, f_v_2, i_2 = dichotomy_method(sinus, sinus_section)\n",
        "x3, f_v_3, i_3 = golden_section_method(sinus, sinus_section)\n",
        "print(f'Brute-Force Method for Sine Function:'\n",
        "      f'\\nX min = {round(x1, 4)}, F(X min) = {round(f_v_1, 4)}, Number of iterations = {i_1}.'\n",
        "      f'\\nDichotomy Method for Sine Function:'\n",
        "      f'\\nX min = {round(x2, 4)}, F(X min) = {round(f_v_3, 4)}, Number of iterations = {i_2}.'\n",
        "      f'\\nGolden Section Method for Sine Function:'\n",
        "      f'\\nX min = {round(x3, 4)}, F(X min) = {round(f_v_3, 4)}, Number of iterations = {i_3}.')\n",
        "print()\n",
        "\n",
        "fig, ax = plt.subplots()\n",
        "ax.plot(sinus_section, [sinus(i) for i in sinus_section], linewidth=0.5)\n",
        "ax.scatter(x2, f_v_2, s=100, c='red')\n",
        "ax.tick_params(axis='both', which='major', labelsize=6)\n",
        "ax.set_title('Sine Function', fontsize=10, loc='center')\n",
        "ax.set_xlabel('x', fontsize=7)\n",
        "ax.set_ylabel('f(x)', fontsize=7)\n",
        "ax.axvline(x=0, color='black', linewidth=0.75)\n",
        "ax.axhline(y=0, color='black', linewidth=0.75)\n",
        "ax.spines['top'].set_visible(False)\n",
        "ax.spines['bottom'].set_visible(False)\n",
        "ax.spines['right'].set_visible(False)\n",
        "ax.spines['left'].set_visible(False)\n",
        "\n",
        "plt.savefig('sine_function.png', dpi = 200, bbox_inches=\"tight\")\n",
        "files.download('sine_function.png')"
      ],
      "metadata": {
        "colab": {
          "base_uri": "https://localhost:8080/",
          "height": 406
        },
        "id": "mk1v3-0FL_78",
        "outputId": "c89366dc-ffca-4643-a56f-944b49a6ed61"
      },
      "execution_count": null,
      "outputs": [
        {
          "output_type": "stream",
          "name": "stdout",
          "text": [
            "Brute-Force Method for Sine Function:\n",
            "X min = 0.223, F(X min) = -0.2172, Number of iterations = 991.\n",
            "Dichotomy Method for Sine Function:\n",
            "X min = 0.222, F(X min) = -0.1994, Number of iterations = 10.\n",
            "Golden Section Method for Sine Function:\n",
            "X min = 0.244, F(X min) = -0.1994, Number of iterations = 13.\n",
            "\n"
          ]
        },
        {
          "output_type": "display_data",
          "data": {
            "text/plain": [
              "<IPython.core.display.Javascript object>"
            ],
            "application/javascript": [
              "\n",
              "    async function download(id, filename, size) {\n",
              "      if (!google.colab.kernel.accessAllowed) {\n",
              "        return;\n",
              "      }\n",
              "      const div = document.createElement('div');\n",
              "      const label = document.createElement('label');\n",
              "      label.textContent = `Downloading \"${filename}\": `;\n",
              "      div.appendChild(label);\n",
              "      const progress = document.createElement('progress');\n",
              "      progress.max = size;\n",
              "      div.appendChild(progress);\n",
              "      document.body.appendChild(div);\n",
              "\n",
              "      const buffers = [];\n",
              "      let downloaded = 0;\n",
              "\n",
              "      const channel = await google.colab.kernel.comms.open(id);\n",
              "      // Send a message to notify the kernel that we're ready.\n",
              "      channel.send({})\n",
              "\n",
              "      for await (const message of channel.messages) {\n",
              "        // Send a message to notify the kernel that we're ready.\n",
              "        channel.send({})\n",
              "        if (message.buffers) {\n",
              "          for (const buffer of message.buffers) {\n",
              "            buffers.push(buffer);\n",
              "            downloaded += buffer.byteLength;\n",
              "            progress.value = downloaded;\n",
              "          }\n",
              "        }\n",
              "      }\n",
              "      const blob = new Blob(buffers, {type: 'application/binary'});\n",
              "      const a = document.createElement('a');\n",
              "      a.href = window.URL.createObjectURL(blob);\n",
              "      a.download = filename;\n",
              "      div.appendChild(a);\n",
              "      a.click();\n",
              "      div.remove();\n",
              "    }\n",
              "  "
            ]
          },
          "metadata": {}
        },
        {
          "output_type": "display_data",
          "data": {
            "text/plain": [
              "<IPython.core.display.Javascript object>"
            ],
            "application/javascript": [
              "download(\"download_10d0c0f5-b46b-47f1-aa3a-3f54287c5f9c\", \"sine_function.png\", 38961)"
            ]
          },
          "metadata": {}
        },
        {
          "output_type": "display_data",
          "data": {
            "text/plain": [
              "<Figure size 432x288 with 1 Axes>"
            ],
            "image/png": "[encoded data removed]"
          },
          "metadata": {
            "needs_background": "light"
          }
        }
      ]
    },
    {
      "cell_type": "code",
      "source": [
        "alpha = np.random.random()\n",
        "beta = np.random.random()\n",
        "noise = np.random.normal(0, 1, 100)\n",
        "epsilon = 0.001\n",
        "\n",
        "print(f'alpha = {alpha}, beta = {beta}')\n",
        "\n",
        "x_k = np.arange(0, 1, 0.01)\n",
        "y_ = [alpha * x_k[k] + beta for k in range(len(x_k))]\n",
        "y_k = [alpha * x_k[k] + beta + noise[k] for k in range(len(x_k))]\n",
        "\n",
        "def linear_approximant(x, a, b):\n",
        "    return a * x + b\n",
        "\n",
        "def rational_approximant(x, a, b):\n",
        "    return a / (1 + b * x)\n",
        "\n",
        "def least_squares_function(x, function):\n",
        "    amount = 0\n",
        "    for i in range(100):\n",
        "        amount = amount + np.power(function(x_k[i], x[0], x[1]) - y_k[i], 2)\n",
        "    return amount"
      ],
      "metadata": {
        "id": "eRRiXL4aNvOJ",
        "colab": {
          "base_uri": "https://localhost:8080/"
        },
        "outputId": "dfb82874-f3a3-4029-f012-7bde68b69f7e"
      },
      "execution_count": 17,
      "outputs": [
        {
          "output_type": "stream",
          "name": "stdout",
          "text": [
            "alpha = 0.1812358427705424, beta = 0.8063775541882271\n"
          ]
        }
      ]
    },
    {
      "cell_type": "code",
      "source": [
        "def brute_force_search(function, args):\n",
        "    return scipy.optimize.brute(\n",
        "        function,\n",
        "        ranges=(slice(0, 1, epsilon), (slice(0, 1, epsilon))),\n",
        "        args=(args,),\n",
        "        full_output=True\n",
        "    )\n",
        "  \n",
        "\n",
        "def gauss_search(function, args):\n",
        "    return scipy.optimize.minimize(\n",
        "        function,\n",
        "        x0=[0, 0],\n",
        "        bounds=[(0, 1), (0, 1)],\n",
        "        method='CG',\n",
        "        args=(args,)\n",
        "    )\n",
        "\n",
        "def neldermead_search(function, args):\n",
        "    return scipy.optimize.minimize(\n",
        "        function,\n",
        "        x0=[0, 0],\n",
        "        bounds=[(0, 1), (0, 1)],\n",
        "        method='Nelder-Mead',\n",
        "        args=(args,)\n",
        "    )\n",
        "\n",
        "print('Generative line')\n",
        "print(f'alpha = {alpha}, beta = {beta}')\n",
        "print('\\n')\n",
        "\n",
        "print('Linear approximate')\n",
        "a_b_array, func_value, point_amount_lin, value_amount  = brute_force_search(least_squares_function, linear_approximant)\n",
        "exhaustive_lower, exhaustive_higher = a_b_array[0], a_b_array[1]\n",
        "sum2 = 0\n",
        "for i in range(len(value_amount)):\n",
        "    sum2 += len(value_amount[i])\n",
        "print('Brute force search arguments: {:.3f}, {:.3f}'.format(exhaustive_lower, exhaustive_higher))\n",
        "print(f'Number of iterations: {sum2}')\n",
        "print(f'Number of function evaluations: {sum2}')\n",
        "print('\\n')\n",
        "\n",
        "gauss_lower, gauss_higher = gauss_search(least_squares_function, linear_approximant).x\n",
        "gauss_num_iter_lin = gauss_search(least_squares_function, rational_approximant).nit\n",
        "gauss_func_ev_lin = gauss_search(least_squares_function, rational_approximant).nfev\n",
        "print('Gauss search arguments: {:.3f}, {:.3f}'.format(gauss_lower, gauss_higher))\n",
        "print(f'Number of iterations: {gauss_num_iter_lin}')\n",
        "print(f'Number of function evaluations: {gauss_func_ev_lin}')\n",
        "print('\\n')\n",
        "\n",
        "neldermead_lower, neldermead_higher = neldermead_search(least_squares_function, linear_approximant).x\n",
        "neldermead_num_iter_lin = neldermead_search(least_squares_function, rational_approximant).nit\n",
        "neldermead_func_ev_lin = neldermead_search(least_squares_function, rational_approximant).nfev\n",
        "print('Nelder-Mead search arguments: {:.3f}, {:.3f}'.format(neldermead_lower, neldermead_higher))\n",
        "print(f'Number of iterations: {neldermead_num_iter_lin}')\n",
        "print(f'Number of function evaluations: {neldermead_func_ev_lin}')\n",
        "\n",
        "plt.figure(figsize=(20, 10))\n",
        "plt.plot(x_k, y_k, '+', label='Data')\n",
        "\n",
        "plt.plot(x_k, y_, label='Generative line')\n",
        "\n",
        "y = [linear_approximant(x, exhaustive_lower, exhaustive_higher) for x in x_k]\n",
        "plt.plot(x_k, y, label='Exhaustive Search')\n",
        "\n",
        "y = [linear_approximant(x, gauss_lower, gauss_higher) for x in x_k]\n",
        "plt.plot(x_k, y, label='Gauss Search')\n",
        "\n",
        "y = [linear_approximant(x, neldermead_lower, neldermead_higher) for x in x_k]\n",
        "plt.plot(x_k, y, label='Nelder-Mead Search')\n",
        "\n",
        "ax = plt.gca()\n",
        "ax.axhline(y=0, color='k')\n",
        "ax.axvline(x=0, color='k')\n",
        "ax.set_title('Minimization of Linear Approximating Function', fontsize=10, loc='center')\n",
        "ax.tick_params(axis='both', which='major', labelsize=6)\n",
        "ax.spines['top'].set_visible(False)\n",
        "ax.spines['bottom'].set_visible(False)\n",
        "ax.spines['right'].set_visible(False)\n",
        "ax.spines['left'].set_visible(False)\n",
        "ax.legend()\n",
        "\n",
        "plt.savefig('linear_approx.png', dpi = 200, bbox_inches=\"tight\")\n",
        "files.download('linear_approx.png')"
      ],
      "metadata": {
        "colab": {
          "base_uri": "https://localhost:8080/",
          "height": 1000
        },
        "id": "Z6KrKG-KLAz0",
        "outputId": "d6a9a548-b836-4c33-b872-a1e6e5efe67e"
      },
      "execution_count": 18,
      "outputs": [
        {
          "output_type": "stream",
          "name": "stdout",
          "text": [
            "Generative line\n",
            "alpha = 0.1812358427705424, beta = 0.8063775541882271\n",
            "\n",
            "\n",
            "Linear approximate\n",
            "Brute force search arguments: -0.092, 0.957\n",
            "Number of iterations: 1000000\n",
            "Number of function evaluations: 1000000\n",
            "\n",
            "\n",
            "Gauss search arguments: -0.092, 0.957\n",
            "Number of iterations: 13\n",
            "Number of function evaluations: 75\n",
            "\n",
            "\n",
            "Nelder-Mead search arguments: 0.000, 0.912\n",
            "Number of iterations: 25\n",
            "Number of function evaluations: 39\n"
          ]
        },
        {
          "output_type": "display_data",
          "data": {
            "text/plain": [
              "<IPython.core.display.Javascript object>"
            ],
            "application/javascript": [
              "\n",
              "    async function download(id, filename, size) {\n",
              "      if (!google.colab.kernel.accessAllowed) {\n",
              "        return;\n",
              "      }\n",
              "      const div = document.createElement('div');\n",
              "      const label = document.createElement('label');\n",
              "      label.textContent = `Downloading \"${filename}\": `;\n",
              "      div.appendChild(label);\n",
              "      const progress = document.createElement('progress');\n",
              "      progress.max = size;\n",
              "      div.appendChild(progress);\n",
              "      document.body.appendChild(div);\n",
              "\n",
              "      const buffers = [];\n",
              "      let downloaded = 0;\n",
              "\n",
              "      const channel = await google.colab.kernel.comms.open(id);\n",
              "      // Send a message to notify the kernel that we're ready.\n",
              "      channel.send({})\n",
              "\n",
              "      for await (const message of channel.messages) {\n",
              "        // Send a message to notify the kernel that we're ready.\n",
              "        channel.send({})\n",
              "        if (message.buffers) {\n",
              "          for (const buffer of message.buffers) {\n",
              "            buffers.push(buffer);\n",
              "            downloaded += buffer.byteLength;\n",
              "            progress.value = downloaded;\n",
              "          }\n",
              "        }\n",
              "      }\n",
              "      const blob = new Blob(buffers, {type: 'application/binary'});\n",
              "      const a = document.createElement('a');\n",
              "      a.href = window.URL.createObjectURL(blob);\n",
              "      a.download = filename;\n",
              "      div.appendChild(a);\n",
              "      a.click();\n",
              "      div.remove();\n",
              "    }\n",
              "  "
            ]
          },
          "metadata": {}
        },
        {
          "output_type": "display_data",
          "data": {
            "text/plain": [
              "<IPython.core.display.Javascript object>"
            ],
            "application/javascript": [
              "download(\"download_ce522443-8bf2-4639-8f3a-efc9c495077c\", \"linear_approx.png\", 85838)"
            ]
          },
          "metadata": {}
        },
        {
          "output_type": "stream",
          "name": "stdout",
          "text": [
            "Generative line\n",
            "alpha = 0.1812358427705424, beta = 0.8063775541882271\n",
            "\n",
            "\n",
            "Rational approximate\n"
          ]
        },
        {
          "output_type": "error",
          "ename": "KeyboardInterrupt",
          "evalue": "ignored",
          "traceback": [
            "\u001b[0;31m---------------------------------------------------------------------------\u001b[0m",
            "\u001b[0;31mKeyboardInterrupt\u001b[0m                         Traceback (most recent call last)",
            "\u001b[0;32m<ipython-input-18-c3bbfb84da69>\u001b[0m in \u001b[0;36m<module>\u001b[0;34m\u001b[0m\n\u001b[1;32m     89\u001b[0m \u001b[0;34m\u001b[0m\u001b[0m\n\u001b[1;32m     90\u001b[0m \u001b[0mprint\u001b[0m\u001b[0;34m(\u001b[0m\u001b[0;34m'Rational approximate'\u001b[0m\u001b[0;34m)\u001b[0m\u001b[0;34m\u001b[0m\u001b[0;34m\u001b[0m\u001b[0m\n\u001b[0;32m---> 91\u001b[0;31m \u001b[0ma_b_array_r\u001b[0m\u001b[0;34m,\u001b[0m \u001b[0mfunc_value_r\u001b[0m\u001b[0;34m,\u001b[0m \u001b[0mpoint_amount_lin_r\u001b[0m\u001b[0;34m,\u001b[0m \u001b[0mvalue_amount_r\u001b[0m  \u001b[0;34m=\u001b[0m \u001b[0mbrute_force_search\u001b[0m\u001b[0;34m(\u001b[0m\u001b[0mleast_squares_function\u001b[0m\u001b[0;34m,\u001b[0m \u001b[0mrational_approximant\u001b[0m\u001b[0;34m)\u001b[0m\u001b[0;34m\u001b[0m\u001b[0;34m\u001b[0m\u001b[0m\n\u001b[0m\u001b[1;32m     92\u001b[0m \u001b[0mexhaustive_lower\u001b[0m\u001b[0;34m,\u001b[0m \u001b[0mexhaustive_higher\u001b[0m \u001b[0;34m=\u001b[0m \u001b[0ma_b_array_r\u001b[0m\u001b[0;34m[\u001b[0m\u001b[0;36m0\u001b[0m\u001b[0;34m]\u001b[0m\u001b[0;34m,\u001b[0m \u001b[0ma_b_array_r\u001b[0m\u001b[0;34m[\u001b[0m\u001b[0;36m1\u001b[0m\u001b[0;34m]\u001b[0m\u001b[0;34m\u001b[0m\u001b[0;34m\u001b[0m\u001b[0m\n\u001b[1;32m     93\u001b[0m \u001b[0msum_r\u001b[0m \u001b[0;34m=\u001b[0m \u001b[0;36m0\u001b[0m\u001b[0;34m\u001b[0m\u001b[0;34m\u001b[0m\u001b[0m\n",
            "\u001b[0;32m<ipython-input-18-c3bbfb84da69>\u001b[0m in \u001b[0;36mbrute_force_search\u001b[0;34m(function, args)\u001b[0m\n\u001b[1;32m      4\u001b[0m         \u001b[0mranges\u001b[0m\u001b[0;34m=\u001b[0m\u001b[0;34m(\u001b[0m\u001b[0mslice\u001b[0m\u001b[0;34m(\u001b[0m\u001b[0;36m0\u001b[0m\u001b[0;34m,\u001b[0m \u001b[0;36m1\u001b[0m\u001b[0;34m,\u001b[0m \u001b[0mepsilon\u001b[0m\u001b[0;34m)\u001b[0m\u001b[0;34m,\u001b[0m \u001b[0;34m(\u001b[0m\u001b[0mslice\u001b[0m\u001b[0;34m(\u001b[0m\u001b[0;36m0\u001b[0m\u001b[0;34m,\u001b[0m \u001b[0;36m1\u001b[0m\u001b[0;34m,\u001b[0m \u001b[0mepsilon\u001b[0m\u001b[0;34m)\u001b[0m\u001b[0;34m)\u001b[0m\u001b[0;34m)\u001b[0m\u001b[0;34m,\u001b[0m\u001b[0;34m\u001b[0m\u001b[0;34m\u001b[0m\u001b[0m\n\u001b[1;32m      5\u001b[0m         \u001b[0margs\u001b[0m\u001b[0;34m=\u001b[0m\u001b[0;34m(\u001b[0m\u001b[0margs\u001b[0m\u001b[0;34m,\u001b[0m\u001b[0;34m)\u001b[0m\u001b[0;34m,\u001b[0m\u001b[0;34m\u001b[0m\u001b[0;34m\u001b[0m\u001b[0m\n\u001b[0;32m----> 6\u001b[0;31m         \u001b[0mfull_output\u001b[0m\u001b[0;34m=\u001b[0m\u001b[0;32mTrue\u001b[0m\u001b[0;34m\u001b[0m\u001b[0;34m\u001b[0m\u001b[0m\n\u001b[0m\u001b[1;32m      7\u001b[0m     )\n\u001b[1;32m      8\u001b[0m \u001b[0;34m\u001b[0m\u001b[0m\n",
            "\u001b[0;32m/usr/local/lib/python3.7/dist-packages/scipy/optimize/optimize.py\u001b[0m in \u001b[0;36mbrute\u001b[0;34m(func, ranges, args, Ns, full_output, finish, disp, workers)\u001b[0m\n\u001b[1;32m   3326\u001b[0m     \u001b[0;31m# iterate over input arrays, possibly in parallel\u001b[0m\u001b[0;34m\u001b[0m\u001b[0;34m\u001b[0m\u001b[0;34m\u001b[0m\u001b[0m\n\u001b[1;32m   3327\u001b[0m     \u001b[0;32mwith\u001b[0m \u001b[0mMapWrapper\u001b[0m\u001b[0;34m(\u001b[0m\u001b[0mpool\u001b[0m\u001b[0;34m=\u001b[0m\u001b[0mworkers\u001b[0m\u001b[0;34m)\u001b[0m \u001b[0;32mas\u001b[0m \u001b[0mmapper\u001b[0m\u001b[0;34m:\u001b[0m\u001b[0;34m\u001b[0m\u001b[0;34m\u001b[0m\u001b[0m\n\u001b[0;32m-> 3328\u001b[0;31m         \u001b[0mJout\u001b[0m \u001b[0;34m=\u001b[0m \u001b[0mnp\u001b[0m\u001b[0;34m.\u001b[0m\u001b[0marray\u001b[0m\u001b[0;34m(\u001b[0m\u001b[0mlist\u001b[0m\u001b[0;34m(\u001b[0m\u001b[0mmapper\u001b[0m\u001b[0;34m(\u001b[0m\u001b[0mwrapped_func\u001b[0m\u001b[0;34m,\u001b[0m \u001b[0mgrid\u001b[0m\u001b[0;34m)\u001b[0m\u001b[0;34m)\u001b[0m\u001b[0;34m)\u001b[0m\u001b[0;34m\u001b[0m\u001b[0;34m\u001b[0m\u001b[0m\n\u001b[0m\u001b[1;32m   3329\u001b[0m         \u001b[0;32mif\u001b[0m \u001b[0;34m(\u001b[0m\u001b[0mN\u001b[0m \u001b[0;34m==\u001b[0m \u001b[0;36m1\u001b[0m\u001b[0;34m)\u001b[0m\u001b[0;34m:\u001b[0m\u001b[0;34m\u001b[0m\u001b[0;34m\u001b[0m\u001b[0m\n\u001b[1;32m   3330\u001b[0m             \u001b[0mgrid\u001b[0m \u001b[0;34m=\u001b[0m \u001b[0;34m(\u001b[0m\u001b[0mgrid\u001b[0m\u001b[0;34m,\u001b[0m\u001b[0;34m)\u001b[0m\u001b[0;34m\u001b[0m\u001b[0;34m\u001b[0m\u001b[0m\n",
            "\u001b[0;32m/usr/local/lib/python3.7/dist-packages/scipy/optimize/optimize.py\u001b[0m in \u001b[0;36m__call__\u001b[0;34m(self, x)\u001b[0m\n\u001b[1;32m   3398\u001b[0m     \u001b[0;32mdef\u001b[0m \u001b[0m__call__\u001b[0m\u001b[0;34m(\u001b[0m\u001b[0mself\u001b[0m\u001b[0;34m,\u001b[0m \u001b[0mx\u001b[0m\u001b[0;34m)\u001b[0m\u001b[0;34m:\u001b[0m\u001b[0;34m\u001b[0m\u001b[0;34m\u001b[0m\u001b[0m\n\u001b[1;32m   3399\u001b[0m         \u001b[0;31m# flatten needed for one dimensional case.\u001b[0m\u001b[0;34m\u001b[0m\u001b[0;34m\u001b[0m\u001b[0;34m\u001b[0m\u001b[0m\n\u001b[0;32m-> 3400\u001b[0;31m         \u001b[0;32mreturn\u001b[0m \u001b[0mself\u001b[0m\u001b[0;34m.\u001b[0m\u001b[0mf\u001b[0m\u001b[0;34m(\u001b[0m\u001b[0mnp\u001b[0m\u001b[0;34m.\u001b[0m\u001b[0masarray\u001b[0m\u001b[0;34m(\u001b[0m\u001b[0mx\u001b[0m\u001b[0;34m)\u001b[0m\u001b[0;34m.\u001b[0m\u001b[0mflatten\u001b[0m\u001b[0;34m(\u001b[0m\u001b[0;34m)\u001b[0m\u001b[0;34m,\u001b[0m \u001b[0;34m*\u001b[0m\u001b[0mself\u001b[0m\u001b[0;34m.\u001b[0m\u001b[0margs\u001b[0m\u001b[0;34m)\u001b[0m\u001b[0;34m\u001b[0m\u001b[0;34m\u001b[0m\u001b[0m\n\u001b[0m\u001b[1;32m   3401\u001b[0m \u001b[0;34m\u001b[0m\u001b[0m\n\u001b[1;32m   3402\u001b[0m \u001b[0;34m\u001b[0m\u001b[0m\n",
            "\u001b[0;32m<ipython-input-17-adf9206cf836>\u001b[0m in \u001b[0;36mleast_squares_function\u001b[0;34m(x, function)\u001b[0m\n\u001b[1;32m     19\u001b[0m     \u001b[0mamount\u001b[0m \u001b[0;34m=\u001b[0m \u001b[0;36m0\u001b[0m\u001b[0;34m\u001b[0m\u001b[0;34m\u001b[0m\u001b[0m\n\u001b[1;32m     20\u001b[0m     \u001b[0;32mfor\u001b[0m \u001b[0mi\u001b[0m \u001b[0;32min\u001b[0m \u001b[0mrange\u001b[0m\u001b[0;34m(\u001b[0m\u001b[0;36m100\u001b[0m\u001b[0;34m)\u001b[0m\u001b[0;34m:\u001b[0m\u001b[0;34m\u001b[0m\u001b[0;34m\u001b[0m\u001b[0m\n\u001b[0;32m---> 21\u001b[0;31m         \u001b[0mamount\u001b[0m \u001b[0;34m=\u001b[0m \u001b[0mamount\u001b[0m \u001b[0;34m+\u001b[0m \u001b[0mnp\u001b[0m\u001b[0;34m.\u001b[0m\u001b[0mpower\u001b[0m\u001b[0;34m(\u001b[0m\u001b[0mfunction\u001b[0m\u001b[0;34m(\u001b[0m\u001b[0mx_k\u001b[0m\u001b[0;34m[\u001b[0m\u001b[0mi\u001b[0m\u001b[0;34m]\u001b[0m\u001b[0;34m,\u001b[0m \u001b[0mx\u001b[0m\u001b[0;34m[\u001b[0m\u001b[0;36m0\u001b[0m\u001b[0;34m]\u001b[0m\u001b[0;34m,\u001b[0m \u001b[0mx\u001b[0m\u001b[0;34m[\u001b[0m\u001b[0;36m1\u001b[0m\u001b[0;34m]\u001b[0m\u001b[0;34m)\u001b[0m \u001b[0;34m-\u001b[0m \u001b[0my_k\u001b[0m\u001b[0;34m[\u001b[0m\u001b[0mi\u001b[0m\u001b[0;34m]\u001b[0m\u001b[0;34m,\u001b[0m \u001b[0;36m2\u001b[0m\u001b[0;34m)\u001b[0m\u001b[0;34m\u001b[0m\u001b[0;34m\u001b[0m\u001b[0m\n\u001b[0m\u001b[1;32m     22\u001b[0m     \u001b[0;32mreturn\u001b[0m \u001b[0mamount\u001b[0m\u001b[0;34m\u001b[0m\u001b[0;34m\u001b[0m\u001b[0m\n",
            "\u001b[0;32m<ipython-input-17-adf9206cf836>\u001b[0m in \u001b[0;36mrational_approximant\u001b[0;34m(x, a, b)\u001b[0m\n\u001b[1;32m     14\u001b[0m \u001b[0;34m\u001b[0m\u001b[0m\n\u001b[1;32m     15\u001b[0m \u001b[0;32mdef\u001b[0m \u001b[0mrational_approximant\u001b[0m\u001b[0;34m(\u001b[0m\u001b[0mx\u001b[0m\u001b[0;34m,\u001b[0m \u001b[0ma\u001b[0m\u001b[0;34m,\u001b[0m \u001b[0mb\u001b[0m\u001b[0;34m)\u001b[0m\u001b[0;34m:\u001b[0m\u001b[0;34m\u001b[0m\u001b[0;34m\u001b[0m\u001b[0m\n\u001b[0;32m---> 16\u001b[0;31m     \u001b[0;32mreturn\u001b[0m \u001b[0ma\u001b[0m \u001b[0;34m/\u001b[0m \u001b[0;34m(\u001b[0m\u001b[0;36m1\u001b[0m \u001b[0;34m+\u001b[0m \u001b[0mb\u001b[0m \u001b[0;34m*\u001b[0m \u001b[0mx\u001b[0m\u001b[0;34m)\u001b[0m\u001b[0;34m\u001b[0m\u001b[0;34m\u001b[0m\u001b[0m\n\u001b[0m\u001b[1;32m     17\u001b[0m \u001b[0;34m\u001b[0m\u001b[0m\n\u001b[1;32m     18\u001b[0m \u001b[0;32mdef\u001b[0m \u001b[0mleast_squares_function\u001b[0m\u001b[0;34m(\u001b[0m\u001b[0mx\u001b[0m\u001b[0;34m,\u001b[0m \u001b[0mfunction\u001b[0m\u001b[0;34m)\u001b[0m\u001b[0;34m:\u001b[0m\u001b[0;34m\u001b[0m\u001b[0;34m\u001b[0m\u001b[0m\n",
            "\u001b[0;31mKeyboardInterrupt\u001b[0m: "
          ]
        },
        {
          "output_type": "display_data",
          "data": {
            "text/plain": [
              "<Figure size 1440x720 with 1 Axes>"
            ],
            "image/png": "[encoded data removed]"
          },
          "metadata": {
            "needs_background": "light"
          }
        }
      ]
    },
    {
      "cell_type": "code",
      "source": [
        "print('Generative line')\n",
        "print(f'alpha = {alpha}, beta = {beta}')\n",
        "print('\\n')\n",
        "\n",
        "print('Rational approximate')\n",
        "a_b_array_r, func_value_r, point_amount_lin_r, value_amount_r  = brute_force_search(least_squares_function, rational_approximant)\n",
        "exhaustive_lower, exhaustive_higher = a_b_array_r[0], a_b_array_r[1]\n",
        "sum_r = 0\n",
        "for i in range(len(value_amount_r)):\n",
        "    sum_r += len(value_amount_r[i])\n",
        "print('Brute force search arguments: {:.3f}, {:.3f}'.format(exhaustive_lower, exhaustive_higher))\n",
        "print(f'Number of iterations: {sum_r}')\n",
        "print(f'Number of function evaluations: {sum_r}')\n",
        "print('\\n')\n",
        "\n",
        "gauss_lower, gauss_higher = gauss_search(least_squares_function, rational_approximant).x\n",
        "gauss_num_iter = gauss_search(least_squares_function, rational_approximant).nit\n",
        "gauss_func_ev =gauss_search(least_squares_function, rational_approximant).nfev\n",
        "print('Gauss search arguments: {:.6f}, {:.6f}'.format(gauss_lower, gauss_higher))\n",
        "print(f'Number of iterations: {gauss_num_iter}')\n",
        "print(f'Number of function evaluations: {gauss_func_ev}')\n",
        "print('\\n')\n",
        "\n",
        "neldermead_lower, neldermead_higher = neldermead_search(least_squares_function, rational_approximant).x\n",
        "neldermead_num_iter = neldermead_search(least_squares_function, rational_approximant).nit\n",
        "neldermead_func_ev = neldermead_search(least_squares_function, rational_approximant).nfev\n",
        "print('Nelder-Mead search arguments: {:.6f}, {:.6f}'.format(neldermead_lower, neldermead_higher))\n",
        "print(f'Number of iterations: {neldermead_num_iter}')\n",
        "print(f'Number of function evaluations: {neldermead_func_ev}')\n",
        "\n",
        "\n",
        "plt.figure(figsize=(20, 10))\n",
        "plt.plot(x_k, y_k, '+', label='Data')\n",
        "\n",
        "plt.plot(x_k, y_, label='Generative line')\n",
        "\n",
        "y = [rational_approximant(x, exhaustive_lower, exhaustive_higher) for x in x_k]\n",
        "plt.plot(x_k, y, label='Exhaustive Search')\n",
        "\n",
        "y = [rational_approximant(x, gauss_lower, gauss_higher) for x in x_k]\n",
        "plt.plot(x_k, y, label='Gauss Search')\n",
        "\n",
        "y = [rational_approximant(x, neldermead_lower, neldermead_higher) for x in x_k]\n",
        "plt.plot(x_k, y, label='Nelder-Mead Search')\n",
        "\n",
        "ax = plt.gca()\n",
        "ax.axhline(y=0, color='k')\n",
        "ax.axvline(x=0, color='k')\n",
        "ax.set_title('Minimization of Rational Approximating Function', fontsize=10, loc='center')\n",
        "ax.tick_params(axis='both', which='major', labelsize=6)\n",
        "ax.spines['top'].set_visible(False)\n",
        "ax.spines['bottom'].set_visible(False)\n",
        "ax.spines['right'].set_visible(False)\n",
        "ax.spines['left'].set_visible(False)\n",
        "ax.legend()\n",
        "\n",
        "plt.savefig('rational_approx.png', dpi = 200, bbox_inches=\"tight\")\n",
        "files.download('rational_approx.png')"
      ],
      "metadata": {
        "id": "LNHAyIEseFR_",
        "colab": {
          "base_uri": "https://localhost:8080/",
          "height": 913
        },
        "outputId": "951f5226-5958-4ae4-d3dc-73bb6b1886f6"
      },
      "execution_count": 22,
      "outputs": [
        {
          "output_type": "stream",
          "name": "stdout",
          "text": [
            "Generative line\n",
            "alpha = 0.1812358427705424, beta = 0.8063775541882271\n",
            "\n",
            "\n",
            "Rational approximate\n",
            "Brute force search arguments: 0.985, 0.167\n",
            "Number of iterations: 1000000\n",
            "Number of function evaluations: 1000000\n",
            "\n",
            "\n",
            "Gauss search arguments: 0.984925, 0.167401\n",
            "Number of iterations: 13\n",
            "Number of function evaluations: 75\n",
            "\n",
            "\n",
            "Nelder-Mead search arguments: 1.000000, 0.000000\n",
            "Number of iterations: 25\n",
            "Number of function evaluations: 39\n"
          ]
        },
        {
          "output_type": "display_data",
          "data": {
            "text/plain": [
              "<IPython.core.display.Javascript object>"
            ],
            "application/javascript": [
              "\n",
              "    async function download(id, filename, size) {\n",
              "      if (!google.colab.kernel.accessAllowed) {\n",
              "        return;\n",
              "      }\n",
              "      const div = document.createElement('div');\n",
              "      const label = document.createElement('label');\n",
              "      label.textContent = `Downloading \"${filename}\": `;\n",
              "      div.appendChild(label);\n",
              "      const progress = document.createElement('progress');\n",
              "      progress.max = size;\n",
              "      div.appendChild(progress);\n",
              "      document.body.appendChild(div);\n",
              "\n",
              "      const buffers = [];\n",
              "      let downloaded = 0;\n",
              "\n",
              "      const channel = await google.colab.kernel.comms.open(id);\n",
              "      // Send a message to notify the kernel that we're ready.\n",
              "      channel.send({})\n",
              "\n",
              "      for await (const message of channel.messages) {\n",
              "        // Send a message to notify the kernel that we're ready.\n",
              "        channel.send({})\n",
              "        if (message.buffers) {\n",
              "          for (const buffer of message.buffers) {\n",
              "            buffers.push(buffer);\n",
              "            downloaded += buffer.byteLength;\n",
              "            progress.value = downloaded;\n",
              "          }\n",
              "        }\n",
              "      }\n",
              "      const blob = new Blob(buffers, {type: 'application/binary'});\n",
              "      const a = document.createElement('a');\n",
              "      a.href = window.URL.createObjectURL(blob);\n",
              "      a.download = filename;\n",
              "      div.appendChild(a);\n",
              "      a.click();\n",
              "      div.remove();\n",
              "    }\n",
              "  "
            ]
          },
          "metadata": {}
        },
        {
          "output_type": "display_data",
          "data": {
            "text/plain": [
              "<IPython.core.display.Javascript object>"
            ],
            "application/javascript": [
              "download(\"download_75c0e6a4-3d78-4113-a103-79de3dd6ae68\", \"rational_approx.png\", 87759)"
            ]
          },
          "metadata": {}
        },
        {
          "output_type": "display_data",
          "data": {
            "text/plain": [
              "<Figure size 1440x720 with 1 Axes>"
            ],
            "image/png": "[encoded data removed]"
          },
          "metadata": {
            "needs_background": "light"
          }
        }
      ]
    }
  ]
}